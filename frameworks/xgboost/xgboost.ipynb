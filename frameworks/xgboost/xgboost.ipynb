{
 "cells": [
  {
   "cell_type": "code",
   "execution_count": 13,
   "metadata": {},
   "outputs": [],
   "source": [
    "#https://www.datacamp.com/tutorial/xgboost-in-python\n",
    "import seaborn as sns\n",
    "\n",
    "import pandas as pd\n",
    "\n",
    "import numpy as np\n",
    "\n",
    "import matplotlib.pyplot as plt\n",
    "\n",
    "import warnings\n",
    "\n",
    "\n",
    "warnings.filterwarnings(\"ignore\")\n"
   ]
  },
  {
   "cell_type": "code",
   "execution_count": 14,
   "metadata": {},
   "outputs": [
    {
     "data": {
      "text/html": [
       "<div>\n",
       "<style scoped>\n",
       "    .dataframe tbody tr th:only-of-type {\n",
       "        vertical-align: middle;\n",
       "    }\n",
       "\n",
       "    .dataframe tbody tr th {\n",
       "        vertical-align: top;\n",
       "    }\n",
       "\n",
       "    .dataframe thead th {\n",
       "        text-align: right;\n",
       "    }\n",
       "</style>\n",
       "<table border=\"1\" class=\"dataframe\">\n",
       "  <thead>\n",
       "    <tr style=\"text-align: right;\">\n",
       "      <th></th>\n",
       "      <th>carat</th>\n",
       "      <th>cut</th>\n",
       "      <th>color</th>\n",
       "      <th>clarity</th>\n",
       "      <th>depth</th>\n",
       "      <th>table</th>\n",
       "      <th>price</th>\n",
       "      <th>x</th>\n",
       "      <th>y</th>\n",
       "      <th>z</th>\n",
       "    </tr>\n",
       "  </thead>\n",
       "  <tbody>\n",
       "    <tr>\n",
       "      <th>0</th>\n",
       "      <td>0.23</td>\n",
       "      <td>Ideal</td>\n",
       "      <td>E</td>\n",
       "      <td>SI2</td>\n",
       "      <td>61.5</td>\n",
       "      <td>55.0</td>\n",
       "      <td>326</td>\n",
       "      <td>3.95</td>\n",
       "      <td>3.98</td>\n",
       "      <td>2.43</td>\n",
       "    </tr>\n",
       "    <tr>\n",
       "      <th>1</th>\n",
       "      <td>0.21</td>\n",
       "      <td>Premium</td>\n",
       "      <td>E</td>\n",
       "      <td>SI1</td>\n",
       "      <td>59.8</td>\n",
       "      <td>61.0</td>\n",
       "      <td>326</td>\n",
       "      <td>3.89</td>\n",
       "      <td>3.84</td>\n",
       "      <td>2.31</td>\n",
       "    </tr>\n",
       "    <tr>\n",
       "      <th>2</th>\n",
       "      <td>0.23</td>\n",
       "      <td>Good</td>\n",
       "      <td>E</td>\n",
       "      <td>VS1</td>\n",
       "      <td>56.9</td>\n",
       "      <td>65.0</td>\n",
       "      <td>327</td>\n",
       "      <td>4.05</td>\n",
       "      <td>4.07</td>\n",
       "      <td>2.31</td>\n",
       "    </tr>\n",
       "    <tr>\n",
       "      <th>3</th>\n",
       "      <td>0.29</td>\n",
       "      <td>Premium</td>\n",
       "      <td>I</td>\n",
       "      <td>VS2</td>\n",
       "      <td>62.4</td>\n",
       "      <td>58.0</td>\n",
       "      <td>334</td>\n",
       "      <td>4.20</td>\n",
       "      <td>4.23</td>\n",
       "      <td>2.63</td>\n",
       "    </tr>\n",
       "    <tr>\n",
       "      <th>4</th>\n",
       "      <td>0.31</td>\n",
       "      <td>Good</td>\n",
       "      <td>J</td>\n",
       "      <td>SI2</td>\n",
       "      <td>63.3</td>\n",
       "      <td>58.0</td>\n",
       "      <td>335</td>\n",
       "      <td>4.34</td>\n",
       "      <td>4.35</td>\n",
       "      <td>2.75</td>\n",
       "    </tr>\n",
       "  </tbody>\n",
       "</table>\n",
       "</div>"
      ],
      "text/plain": [
       "   carat      cut color clarity  depth  table  price     x     y     z\n",
       "0   0.23    Ideal     E     SI2   61.5   55.0    326  3.95  3.98  2.43\n",
       "1   0.21  Premium     E     SI1   59.8   61.0    326  3.89  3.84  2.31\n",
       "2   0.23     Good     E     VS1   56.9   65.0    327  4.05  4.07  2.31\n",
       "3   0.29  Premium     I     VS2   62.4   58.0    334  4.20  4.23  2.63\n",
       "4   0.31     Good     J     SI2   63.3   58.0    335  4.34  4.35  2.75"
      ]
     },
     "execution_count": 14,
     "metadata": {},
     "output_type": "execute_result"
    }
   ],
   "source": [
    "import ssl\n",
    "\n",
    "#bypass the ssl error\n",
    "ssl._create_default_https_context = ssl._create_unverified_context\n",
    "\n",
    "diamonds = sns.load_dataset(\"diamonds\")\n",
    "\n",
    "diamonds.head()"
   ]
  },
  {
   "cell_type": "code",
   "execution_count": 15,
   "metadata": {},
   "outputs": [
    {
     "data": {
      "text/plain": [
       "(53940, 10)"
      ]
     },
     "execution_count": 15,
     "metadata": {},
     "output_type": "execute_result"
    }
   ],
   "source": [
    "# check the shape of the df\n",
    "diamonds.shape"
   ]
  },
  {
   "cell_type": "code",
   "execution_count": 16,
   "metadata": {},
   "outputs": [
    {
     "data": {
      "text/html": [
       "<div>\n",
       "<style scoped>\n",
       "    .dataframe tbody tr th:only-of-type {\n",
       "        vertical-align: middle;\n",
       "    }\n",
       "\n",
       "    .dataframe tbody tr th {\n",
       "        vertical-align: top;\n",
       "    }\n",
       "\n",
       "    .dataframe thead th {\n",
       "        text-align: right;\n",
       "    }\n",
       "</style>\n",
       "<table border=\"1\" class=\"dataframe\">\n",
       "  <thead>\n",
       "    <tr style=\"text-align: right;\">\n",
       "      <th></th>\n",
       "      <th>carat</th>\n",
       "      <th>depth</th>\n",
       "      <th>table</th>\n",
       "      <th>price</th>\n",
       "      <th>x</th>\n",
       "      <th>y</th>\n",
       "      <th>z</th>\n",
       "    </tr>\n",
       "  </thead>\n",
       "  <tbody>\n",
       "    <tr>\n",
       "      <th>count</th>\n",
       "      <td>53940.000000</td>\n",
       "      <td>53940.000000</td>\n",
       "      <td>53940.000000</td>\n",
       "      <td>53940.000000</td>\n",
       "      <td>53940.000000</td>\n",
       "      <td>53940.000000</td>\n",
       "      <td>53940.000000</td>\n",
       "    </tr>\n",
       "    <tr>\n",
       "      <th>mean</th>\n",
       "      <td>0.797940</td>\n",
       "      <td>61.749405</td>\n",
       "      <td>57.457184</td>\n",
       "      <td>3932.799722</td>\n",
       "      <td>5.731157</td>\n",
       "      <td>5.734526</td>\n",
       "      <td>3.538734</td>\n",
       "    </tr>\n",
       "    <tr>\n",
       "      <th>std</th>\n",
       "      <td>0.474011</td>\n",
       "      <td>1.432621</td>\n",
       "      <td>2.234491</td>\n",
       "      <td>3989.439738</td>\n",
       "      <td>1.121761</td>\n",
       "      <td>1.142135</td>\n",
       "      <td>0.705699</td>\n",
       "    </tr>\n",
       "    <tr>\n",
       "      <th>min</th>\n",
       "      <td>0.200000</td>\n",
       "      <td>43.000000</td>\n",
       "      <td>43.000000</td>\n",
       "      <td>326.000000</td>\n",
       "      <td>0.000000</td>\n",
       "      <td>0.000000</td>\n",
       "      <td>0.000000</td>\n",
       "    </tr>\n",
       "    <tr>\n",
       "      <th>25%</th>\n",
       "      <td>0.400000</td>\n",
       "      <td>61.000000</td>\n",
       "      <td>56.000000</td>\n",
       "      <td>950.000000</td>\n",
       "      <td>4.710000</td>\n",
       "      <td>4.720000</td>\n",
       "      <td>2.910000</td>\n",
       "    </tr>\n",
       "    <tr>\n",
       "      <th>50%</th>\n",
       "      <td>0.700000</td>\n",
       "      <td>61.800000</td>\n",
       "      <td>57.000000</td>\n",
       "      <td>2401.000000</td>\n",
       "      <td>5.700000</td>\n",
       "      <td>5.710000</td>\n",
       "      <td>3.530000</td>\n",
       "    </tr>\n",
       "    <tr>\n",
       "      <th>75%</th>\n",
       "      <td>1.040000</td>\n",
       "      <td>62.500000</td>\n",
       "      <td>59.000000</td>\n",
       "      <td>5324.250000</td>\n",
       "      <td>6.540000</td>\n",
       "      <td>6.540000</td>\n",
       "      <td>4.040000</td>\n",
       "    </tr>\n",
       "    <tr>\n",
       "      <th>max</th>\n",
       "      <td>5.010000</td>\n",
       "      <td>79.000000</td>\n",
       "      <td>95.000000</td>\n",
       "      <td>18823.000000</td>\n",
       "      <td>10.740000</td>\n",
       "      <td>58.900000</td>\n",
       "      <td>31.800000</td>\n",
       "    </tr>\n",
       "  </tbody>\n",
       "</table>\n",
       "</div>"
      ],
      "text/plain": [
       "              carat         depth         table         price             x  \\\n",
       "count  53940.000000  53940.000000  53940.000000  53940.000000  53940.000000   \n",
       "mean       0.797940     61.749405     57.457184   3932.799722      5.731157   \n",
       "std        0.474011      1.432621      2.234491   3989.439738      1.121761   \n",
       "min        0.200000     43.000000     43.000000    326.000000      0.000000   \n",
       "25%        0.400000     61.000000     56.000000    950.000000      4.710000   \n",
       "50%        0.700000     61.800000     57.000000   2401.000000      5.700000   \n",
       "75%        1.040000     62.500000     59.000000   5324.250000      6.540000   \n",
       "max        5.010000     79.000000     95.000000  18823.000000     10.740000   \n",
       "\n",
       "                  y             z  \n",
       "count  53940.000000  53940.000000  \n",
       "mean       5.734526      3.538734  \n",
       "std        1.142135      0.705699  \n",
       "min        0.000000      0.000000  \n",
       "25%        4.720000      2.910000  \n",
       "50%        5.710000      3.530000  \n",
       "75%        6.540000      4.040000  \n",
       "max       58.900000     31.800000  "
      ]
     },
     "execution_count": 16,
     "metadata": {},
     "output_type": "execute_result"
    }
   ],
   "source": [
    "diamonds.describe()"
   ]
  },
  {
   "cell_type": "code",
   "execution_count": 17,
   "metadata": {},
   "outputs": [
    {
     "data": {
      "text/html": [
       "<div>\n",
       "<style scoped>\n",
       "    .dataframe tbody tr th:only-of-type {\n",
       "        vertical-align: middle;\n",
       "    }\n",
       "\n",
       "    .dataframe tbody tr th {\n",
       "        vertical-align: top;\n",
       "    }\n",
       "\n",
       "    .dataframe thead th {\n",
       "        text-align: right;\n",
       "    }\n",
       "</style>\n",
       "<table border=\"1\" class=\"dataframe\">\n",
       "  <thead>\n",
       "    <tr style=\"text-align: right;\">\n",
       "      <th></th>\n",
       "      <th>cut</th>\n",
       "      <th>color</th>\n",
       "      <th>clarity</th>\n",
       "    </tr>\n",
       "  </thead>\n",
       "  <tbody>\n",
       "    <tr>\n",
       "      <th>count</th>\n",
       "      <td>53940</td>\n",
       "      <td>53940</td>\n",
       "      <td>53940</td>\n",
       "    </tr>\n",
       "    <tr>\n",
       "      <th>unique</th>\n",
       "      <td>5</td>\n",
       "      <td>7</td>\n",
       "      <td>8</td>\n",
       "    </tr>\n",
       "    <tr>\n",
       "      <th>top</th>\n",
       "      <td>Ideal</td>\n",
       "      <td>G</td>\n",
       "      <td>SI1</td>\n",
       "    </tr>\n",
       "    <tr>\n",
       "      <th>freq</th>\n",
       "      <td>21551</td>\n",
       "      <td>11292</td>\n",
       "      <td>13065</td>\n",
       "    </tr>\n",
       "  </tbody>\n",
       "</table>\n",
       "</div>"
      ],
      "text/plain": [
       "          cut  color clarity\n",
       "count   53940  53940   53940\n",
       "unique      5      7       8\n",
       "top     Ideal      G     SI1\n",
       "freq    21551  11292   13065"
      ]
     },
     "execution_count": 17,
     "metadata": {},
     "output_type": "execute_result"
    }
   ],
   "source": [
    "diamonds.describe(exclude=np.number)"
   ]
  },
  {
   "cell_type": "code",
   "execution_count": 18,
   "metadata": {},
   "outputs": [
    {
     "name": "stdout",
     "output_type": "stream",
     "text": [
      "carat      0\n",
      "cut        0\n",
      "color      0\n",
      "clarity    0\n",
      "depth      0\n",
      "table      0\n",
      "price      0\n",
      "x          0\n",
      "y          0\n",
      "z          0\n",
      "dtype: int64\n"
     ]
    }
   ],
   "source": [
    "# check for nulls\n",
    "null_counts = diamonds.isnull().sum()\n",
    "print(null_counts)"
   ]
  },
  {
   "cell_type": "code",
   "execution_count": 19,
   "metadata": {},
   "outputs": [
    {
     "name": "stdout",
     "output_type": "stream",
     "text": [
      "       carat        cut color clarity  depth  table     x     y     z\n",
      "0       0.23      Ideal     E     SI2   61.5   55.0  3.95  3.98  2.43\n",
      "1       0.21    Premium     E     SI1   59.8   61.0  3.89  3.84  2.31\n",
      "2       0.23       Good     E     VS1   56.9   65.0  4.05  4.07  2.31\n",
      "3       0.29    Premium     I     VS2   62.4   58.0  4.20  4.23  2.63\n",
      "4       0.31       Good     J     SI2   63.3   58.0  4.34  4.35  2.75\n",
      "...      ...        ...   ...     ...    ...    ...   ...   ...   ...\n",
      "53935   0.72      Ideal     D     SI1   60.8   57.0  5.75  5.76  3.50\n",
      "53936   0.72       Good     D     SI1   63.1   55.0  5.69  5.75  3.61\n",
      "53937   0.70  Very Good     D     SI1   62.8   60.0  5.66  5.68  3.56\n",
      "53938   0.86    Premium     H     SI2   61.0   58.0  6.15  6.12  3.74\n",
      "53939   0.75      Ideal     D     SI2   62.2   55.0  5.83  5.87  3.64\n",
      "\n",
      "[53940 rows x 9 columns]\n",
      "       price\n",
      "0        326\n",
      "1        326\n",
      "2        327\n",
      "3        334\n",
      "4        335\n",
      "...      ...\n",
      "53935   2757\n",
      "53936   2757\n",
      "53937   2757\n",
      "53938   2757\n",
      "53939   2757\n",
      "\n",
      "[53940 rows x 1 columns]\n"
     ]
    }
   ],
   "source": [
    "from sklearn.model_selection import train_test_split\n",
    "\n",
    "# Extract feature and target arrays\n",
    "X, y = diamonds.drop('price', axis=1), diamonds[['price']]\n",
    "print(X)\n",
    "print(y)"
   ]
  },
  {
   "cell_type": "code",
   "execution_count": 20,
   "metadata": {},
   "outputs": [
    {
     "name": "stdout",
     "output_type": "stream",
     "text": [
      "['cut', 'color', 'clarity']\n"
     ]
    }
   ],
   "source": [
    "# Extract text features\n",
    "cats = X.select_dtypes(exclude=np.number).columns.tolist()\n",
    "print(cats)\n",
    "\n",
    "# # Convert to Pandas category\n",
    "# for col in cats:\n",
    "#    X[col] = X[col].astype('category')\n",
    "\n",
    "# print(X)"
   ]
  },
  {
   "cell_type": "code",
   "execution_count": 21,
   "metadata": {},
   "outputs": [
    {
     "data": {
      "text/plain": [
       "carat       float64\n",
       "cut        category\n",
       "color      category\n",
       "clarity    category\n",
       "depth       float64\n",
       "table       float64\n",
       "x           float64\n",
       "y           float64\n",
       "z           float64\n",
       "dtype: object"
      ]
     },
     "execution_count": 21,
     "metadata": {},
     "output_type": "execute_result"
    }
   ],
   "source": [
    "X.dtypes"
   ]
  },
  {
   "cell_type": "code",
   "execution_count": 22,
   "metadata": {},
   "outputs": [],
   "source": [
    "# Split the data\n",
    "X_train, X_test, y_train, y_test = train_test_split(X, y, test_size=0.2, random_state=1)"
   ]
  },
  {
   "cell_type": "code",
   "execution_count": 23,
   "metadata": {},
   "outputs": [
    {
     "name": "stdout",
     "output_type": "stream",
     "text": [
      "43152\n",
      "10788\n"
     ]
    }
   ],
   "source": [
    "print(len(X_train))\n",
    "print(len(X_test))"
   ]
  },
  {
   "cell_type": "code",
   "execution_count": 24,
   "metadata": {},
   "outputs": [],
   "source": [
    "import xgboost as xgb\n",
    "\n",
    "# Create regression matrices\n",
    "dtrain_reg = xgb.DMatrix(X_train, y_train, enable_categorical=True)\n",
    "dtest_reg = xgb.DMatrix(X_test, y_test, enable_categorical=True)"
   ]
  },
  {
   "cell_type": "code",
   "execution_count": 28,
   "metadata": {},
   "outputs": [],
   "source": [
    "# Define hyperparameters\n",
    "params = {\"objective\": \"reg:squarederror\", \"tree_method\": \"gpu_hist\"}"
   ]
  },
  {
   "cell_type": "code",
   "execution_count": null,
   "metadata": {},
   "outputs": [],
   "source": [
    "model = xgb.train(\n",
    "   params=params,\n",
    "   dtrain=dtrain_reg,\n",
    "   num_boost_round=100,\n",
    ")"
   ]
  },
  {
   "cell_type": "code",
   "execution_count": null,
   "metadata": {},
   "outputs": [
    {
     "data": {
      "text/plain": [
       "<xgboost.core.Booster at 0x165a8d2f790>"
      ]
     },
     "execution_count": 37,
     "metadata": {},
     "output_type": "execute_result"
    }
   ],
   "source": [
    "model"
   ]
  },
  {
   "cell_type": "code",
   "execution_count": null,
   "metadata": {},
   "outputs": [],
   "source": [
    "from sklearn.metrics import mean_squared_error\n",
    "\n",
    "preds = model.predict(dtest_reg)"
   ]
  },
  {
   "cell_type": "code",
   "execution_count": null,
   "metadata": {},
   "outputs": [
    {
     "name": "stdout",
     "output_type": "stream",
     "text": [
      "[ 503.4773 5810.302  2587.0713 ... 2036.3007 6246.833  1369.7161]\n"
     ]
    }
   ],
   "source": [
    "print(preds)"
   ]
  },
  {
   "cell_type": "code",
   "execution_count": null,
   "metadata": {},
   "outputs": [
    {
     "name": "stdout",
     "output_type": "stream",
     "text": [
      "RMSE of the base model: 529.291\n"
     ]
    }
   ],
   "source": [
    "rmse = mean_squared_error(y_test, preds, squared=False)\n",
    "\n",
    "print(f\"RMSE of the base model: {rmse:.3f}\")"
   ]
  },
  {
   "cell_type": "markdown",
   "metadata": {},
   "source": [
    "EVALUATION SETS"
   ]
  },
  {
   "cell_type": "code",
   "execution_count": null,
   "metadata": {},
   "outputs": [],
   "source": [
    "evals = [(dtrain_reg, \"train\"), (dtest_reg, \"validation\")]"
   ]
  },
  {
   "cell_type": "code",
   "execution_count": null,
   "metadata": {},
   "outputs": [
    {
     "name": "stdout",
     "output_type": "stream",
     "text": [
      "[0]\ttrain-rmse:2869.39664\tvalidation-rmse:2824.71766\n",
      "[1]\ttrain-rmse:2088.76624\tvalidation-rmse:2058.64417\n",
      "[2]\ttrain-rmse:1548.93014\tvalidation-rmse:1528.25913\n",
      "[3]\ttrain-rmse:1184.09574\tvalidation-rmse:1175.69096\n",
      "[4]\ttrain-rmse:941.26700\tvalidation-rmse:939.34287\n",
      "[5]\ttrain-rmse:786.16941\tvalidation-rmse:795.06946\n",
      "[6]\ttrain-rmse:689.33568\tvalidation-rmse:702.86336\n",
      "[7]\ttrain-rmse:626.32308\tvalidation-rmse:644.64658\n",
      "[8]\ttrain-rmse:586.56146\tvalidation-rmse:608.05544\n",
      "[9]\ttrain-rmse:563.28094\tvalidation-rmse:589.66871\n",
      "[10]\ttrain-rmse:547.07965\tvalidation-rmse:577.17280\n",
      "[11]\ttrain-rmse:535.11872\tvalidation-rmse:568.05455\n",
      "[12]\ttrain-rmse:525.26585\tvalidation-rmse:561.00563\n",
      "[13]\ttrain-rmse:518.80786\tvalidation-rmse:556.84295\n",
      "[14]\ttrain-rmse:513.46191\tvalidation-rmse:554.75324\n",
      "[15]\ttrain-rmse:508.12670\tvalidation-rmse:551.29301\n",
      "[16]\ttrain-rmse:504.46784\tvalidation-rmse:547.86839\n",
      "[17]\ttrain-rmse:497.82264\tvalidation-rmse:544.97547\n",
      "[18]\ttrain-rmse:495.93198\tvalidation-rmse:544.37612\n",
      "[19]\ttrain-rmse:491.59022\tvalidation-rmse:542.41273\n",
      "[20]\ttrain-rmse:489.24714\tvalidation-rmse:541.19490\n",
      "[21]\ttrain-rmse:485.11781\tvalidation-rmse:539.99831\n",
      "[22]\ttrain-rmse:482.56729\tvalidation-rmse:539.43852\n",
      "[23]\ttrain-rmse:479.74170\tvalidation-rmse:538.84788\n",
      "[24]\ttrain-rmse:476.52875\tvalidation-rmse:537.40284\n",
      "[25]\ttrain-rmse:474.84198\tvalidation-rmse:536.52747\n",
      "[26]\ttrain-rmse:473.41791\tvalidation-rmse:536.45918\n",
      "[27]\ttrain-rmse:469.38840\tvalidation-rmse:536.43607\n",
      "[28]\ttrain-rmse:467.85062\tvalidation-rmse:536.37766\n",
      "[29]\ttrain-rmse:465.89598\tvalidation-rmse:535.46947\n",
      "[30]\ttrain-rmse:463.58497\tvalidation-rmse:534.88041\n",
      "[31]\ttrain-rmse:462.77852\tvalidation-rmse:534.50087\n",
      "[32]\ttrain-rmse:462.49688\tvalidation-rmse:534.29225\n",
      "[33]\ttrain-rmse:460.37542\tvalidation-rmse:534.75660\n",
      "[34]\ttrain-rmse:459.18829\tvalidation-rmse:534.45903\n",
      "[35]\ttrain-rmse:456.07063\tvalidation-rmse:534.07988\n",
      "[36]\ttrain-rmse:454.65252\tvalidation-rmse:534.96433\n",
      "[37]\ttrain-rmse:453.24309\tvalidation-rmse:535.00499\n",
      "[38]\ttrain-rmse:452.29000\tvalidation-rmse:534.84563\n",
      "[39]\ttrain-rmse:450.55711\tvalidation-rmse:534.37297\n",
      "[40]\ttrain-rmse:447.28130\tvalidation-rmse:533.14998\n",
      "[41]\ttrain-rmse:445.10779\tvalidation-rmse:532.52098\n",
      "[42]\ttrain-rmse:443.30342\tvalidation-rmse:532.57476\n",
      "[43]\ttrain-rmse:443.11816\tvalidation-rmse:532.44544\n",
      "[44]\ttrain-rmse:441.59498\tvalidation-rmse:532.76837\n",
      "[45]\ttrain-rmse:440.85032\tvalidation-rmse:532.54511\n",
      "[46]\ttrain-rmse:439.60459\tvalidation-rmse:531.95109\n",
      "[47]\ttrain-rmse:437.76585\tvalidation-rmse:531.51347\n",
      "[48]\ttrain-rmse:435.26320\tvalidation-rmse:531.26778\n",
      "[49]\ttrain-rmse:435.04955\tvalidation-rmse:531.11042\n",
      "[50]\ttrain-rmse:433.37406\tvalidation-rmse:531.71893\n",
      "[51]\ttrain-rmse:431.51153\tvalidation-rmse:531.24132\n",
      "[52]\ttrain-rmse:430.10762\tvalidation-rmse:531.48597\n",
      "[53]\ttrain-rmse:426.69179\tvalidation-rmse:531.36092\n",
      "[54]\ttrain-rmse:424.76044\tvalidation-rmse:531.58934\n",
      "[55]\ttrain-rmse:423.33125\tvalidation-rmse:531.34488\n",
      "[56]\ttrain-rmse:421.41675\tvalidation-rmse:531.69671\n",
      "[57]\ttrain-rmse:420.19680\tvalidation-rmse:531.38513\n",
      "[58]\ttrain-rmse:418.85103\tvalidation-rmse:530.92356\n",
      "[59]\ttrain-rmse:418.78452\tvalidation-rmse:530.94328\n",
      "[60]\ttrain-rmse:417.71834\tvalidation-rmse:530.52044\n",
      "[61]\ttrain-rmse:415.54233\tvalidation-rmse:530.40122\n",
      "[62]\ttrain-rmse:413.98237\tvalidation-rmse:530.43161\n",
      "[63]\ttrain-rmse:413.32819\tvalidation-rmse:530.44711\n",
      "[64]\ttrain-rmse:413.20711\tvalidation-rmse:530.49780\n",
      "[65]\ttrain-rmse:412.41616\tvalidation-rmse:530.18384\n",
      "[66]\ttrain-rmse:410.80263\tvalidation-rmse:530.00295\n",
      "[67]\ttrain-rmse:410.67951\tvalidation-rmse:529.91854\n",
      "[68]\ttrain-rmse:408.91178\tvalidation-rmse:529.47539\n",
      "[69]\ttrain-rmse:407.37696\tvalidation-rmse:529.33419\n",
      "[70]\ttrain-rmse:406.99344\tvalidation-rmse:529.95334\n",
      "[71]\ttrain-rmse:406.08346\tvalidation-rmse:529.95836\n",
      "[72]\ttrain-rmse:405.65960\tvalidation-rmse:529.76558\n",
      "[73]\ttrain-rmse:405.31453\tvalidation-rmse:529.62212\n",
      "[74]\ttrain-rmse:403.80460\tvalidation-rmse:529.64127\n",
      "[75]\ttrain-rmse:402.40861\tvalidation-rmse:530.32897\n",
      "[76]\ttrain-rmse:400.91798\tvalidation-rmse:530.18820\n",
      "[77]\ttrain-rmse:400.05493\tvalidation-rmse:529.94467\n",
      "[78]\ttrain-rmse:398.34155\tvalidation-rmse:529.94435\n",
      "[79]\ttrain-rmse:397.83178\tvalidation-rmse:529.81669\n",
      "[80]\ttrain-rmse:396.80919\tvalidation-rmse:529.73025\n",
      "[81]\ttrain-rmse:395.44742\tvalidation-rmse:530.15957\n",
      "[82]\ttrain-rmse:394.85336\tvalidation-rmse:529.79666\n",
      "[83]\ttrain-rmse:393.98563\tvalidation-rmse:529.63195\n",
      "[84]\ttrain-rmse:393.41931\tvalidation-rmse:529.25266\n",
      "[85]\ttrain-rmse:391.95728\tvalidation-rmse:529.06420\n",
      "[86]\ttrain-rmse:390.93914\tvalidation-rmse:528.94403\n",
      "[87]\ttrain-rmse:390.23091\tvalidation-rmse:528.95055\n",
      "[88]\ttrain-rmse:388.00492\tvalidation-rmse:528.48137\n",
      "[89]\ttrain-rmse:387.03907\tvalidation-rmse:529.03089\n",
      "[90]\ttrain-rmse:386.60973\tvalidation-rmse:528.87842\n",
      "[91]\ttrain-rmse:385.33020\tvalidation-rmse:529.75275\n",
      "[92]\ttrain-rmse:385.29500\tvalidation-rmse:529.73450\n",
      "[93]\ttrain-rmse:384.53446\tvalidation-rmse:529.47441\n",
      "[94]\ttrain-rmse:382.60398\tvalidation-rmse:529.27888\n",
      "[95]\ttrain-rmse:381.19684\tvalidation-rmse:528.67333\n",
      "[96]\ttrain-rmse:380.85725\tvalidation-rmse:528.75410\n",
      "[97]\ttrain-rmse:379.52829\tvalidation-rmse:529.05725\n",
      "[98]\ttrain-rmse:377.87745\tvalidation-rmse:529.39069\n",
      "[99]\ttrain-rmse:376.94323\tvalidation-rmse:529.29145\n"
     ]
    }
   ],
   "source": [
    "model = xgb.train(\n",
    "   params=params,\n",
    "   dtrain=dtrain_reg,\n",
    "   num_boost_round=100,\n",
    "   evals=evals\n",
    ")"
   ]
  },
  {
   "cell_type": "code",
   "execution_count": null,
   "metadata": {},
   "outputs": [
    {
     "name": "stdout",
     "output_type": "stream",
     "text": [
      "[0]\ttrain-rmse:2869.39664\tvalidation-rmse:2824.71766\n",
      "[10]\ttrain-rmse:547.07965\tvalidation-rmse:577.17280\n",
      "[20]\ttrain-rmse:489.24714\tvalidation-rmse:541.19490\n",
      "[30]\ttrain-rmse:463.58497\tvalidation-rmse:534.88041\n",
      "[40]\ttrain-rmse:447.28130\tvalidation-rmse:533.14998\n",
      "[50]\ttrain-rmse:433.37406\tvalidation-rmse:531.71893\n",
      "[60]\ttrain-rmse:417.71834\tvalidation-rmse:530.52044\n",
      "[70]\ttrain-rmse:406.99344\tvalidation-rmse:529.95334\n",
      "[80]\ttrain-rmse:396.80919\tvalidation-rmse:529.73025\n",
      "[90]\ttrain-rmse:386.60973\tvalidation-rmse:528.87842\n",
      "[100]\ttrain-rmse:376.03018\tvalidation-rmse:529.35955\n",
      "[110]\ttrain-rmse:366.61975\tvalidation-rmse:529.96552\n",
      "[120]\ttrain-rmse:356.60058\tvalidation-rmse:529.77331\n",
      "[130]\ttrain-rmse:349.71051\tvalidation-rmse:528.67954\n",
      "[140]\ttrain-rmse:341.89822\tvalidation-rmse:528.79583\n",
      "[150]\ttrain-rmse:335.45942\tvalidation-rmse:528.55706\n",
      "[160]\ttrain-rmse:330.25106\tvalidation-rmse:528.81294\n",
      "[170]\ttrain-rmse:322.29198\tvalidation-rmse:528.59957\n",
      "[180]\ttrain-rmse:315.68150\tvalidation-rmse:529.56318\n",
      "[190]\ttrain-rmse:311.77642\tvalidation-rmse:529.17319\n",
      "[200]\ttrain-rmse:305.57387\tvalidation-rmse:529.51203\n",
      "[201]\ttrain-rmse:305.47412\tvalidation-rmse:529.47174\n"
     ]
    }
   ],
   "source": [
    "model = xgb.train(\n",
    "   params=params,\n",
    "   dtrain=dtrain_reg,\n",
    "   num_boost_round=300,\n",
    "   evals=evals,\n",
    "   verbose_eval=10, # Every ten rounds\n",
    "   # Activate early stopping\n",
    "   early_stopping_rounds=50\n",
    ")"
   ]
  },
  {
   "cell_type": "code",
   "execution_count": null,
   "metadata": {},
   "outputs": [],
   "source": []
  }
 ],
 "metadata": {
  "kernelspec": {
   "display_name": "Python 3",
   "language": "python",
   "name": "python3"
  },
  "language_info": {
   "codemirror_mode": {
    "name": "ipython",
    "version": 3
   },
   "file_extension": ".py",
   "mimetype": "text/x-python",
   "name": "python",
   "nbconvert_exporter": "python",
   "pygments_lexer": "ipython3",
   "version": "3.10.0"
  }
 },
 "nbformat": 4,
 "nbformat_minor": 2
}
