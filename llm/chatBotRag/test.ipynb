{
 "cells": [
  {
   "cell_type": "code",
   "execution_count": 4,
   "metadata": {},
   "outputs": [],
   "source": [
    "from langchain_community.llms import Ollama"
   ]
  },
  {
   "cell_type": "code",
   "execution_count": 7,
   "metadata": {},
   "outputs": [],
   "source": [
    "llm = Ollama(model=\"mistral\")"
   ]
  },
  {
   "cell_type": "code",
   "execution_count": 9,
   "metadata": {},
   "outputs": [
    {
     "data": {
      "text/plain": [
       "\" The sky appears blue due to a process called scattering. When sunlight reaches Earth, it's made up of different colors, with shorter wavelengths (like violet and blue) traveling in smaller waves and bending more easily than longer wavelengths (like red and yellow). As sunlight enters the atmosphere, it meets molecules of nitrogen and oxygen. These molecules are smaller than the wavelength of light, causing them to scatter the short-wavelength light in all directions. Since blue and violet light are scattered more than other colors, they are the dominant colors we see when looking at the sky. However, our eyes are more sensitive to blue light and less sensitive to violet light. We perceive the sky as blue rather than violet because of this difference in sensitivity. At sunrise or sunset, the sky may appear red or orange due to a phenomenon called Rayleigh scattering plus another effect called scattering by air molecules called Raman scattering which shifts the color towards longer wavelengths (red and orange) when sunlight passes through more atmosphere.\""
      ]
     },
     "execution_count": 9,
     "metadata": {},
     "output_type": "execute_result"
    }
   ],
   "source": [
    "llm.invoke(\"why is the sky blue?\")"
   ]
  }
 ],
 "metadata": {
  "kernelspec": {
   "display_name": "Python 3",
   "language": "python",
   "name": "python3"
  },
  "language_info": {
   "codemirror_mode": {
    "name": "ipython",
    "version": 3
   },
   "file_extension": ".py",
   "mimetype": "text/x-python",
   "name": "python",
   "nbconvert_exporter": "python",
   "pygments_lexer": "ipython3",
   "version": "3.11.9"
  }
 },
 "nbformat": 4,
 "nbformat_minor": 2
}
