{
 "cells": [
  {
   "cell_type": "code",
   "execution_count": null,
   "id": "d8a3a577-6ab0-47b4-a605-055b1dbc6de0",
   "metadata": {},
   "outputs": [],
   "source": [
    "import numpy as np\n",
    "import pandas as pd\n",
    "import requests\n",
    "import cfbd\n",
    "from cfbd.rest import ApiException"
   ]
  },
  {
   "cell_type": "code",
   "execution_count": null,
   "id": "8def22f4-0cc6-433d-ac58-a0579925eb8b",
   "metadata": {},
   "outputs": [],
   "source": [
    "dataset = pd.DataFrame()"
   ]
  },
  {
   "cell_type": "code",
   "execution_count": null,
   "id": "be3893a8-bb16-41b3-b9cd-8ce2339a6ac8",
   "metadata": {},
   "outputs": [],
   "source": [
    "# Configure API key authorization: ApiKeyAuth\n",
    "configuration = cfbd.Configuration()\n",
    "configuration.api_key['Authorization'] = '+eiRK37qNRqjoDcgyigTAWo4QyGrMtYR1o/hifwQmzj8hO1OwzwDdbjRnJKfSr2t'\n",
    "configuration.api_key_prefix['Authorization'] = 'Bearer'\n",
    "\n",
    "for year in range (2021, 2024):\n",
    "    api_config = cfbd.ApiClient(configuration)\n",
    "    for week in range (1,16):\n",
    "        response = plays = cfbd.PlaysApi(api_config).get_plays(year=year, week=week, offense='Michigan')\n",
    "        data = (pd.DataFrame.from_records([p.to_dict() for p in plays]))\n",
    "        dataset = pd.concat([dataset, data]) \n",
    "          \n",
    "      \n",
    "dataset"
   ]
  },
  {
   "cell_type": "code",
   "execution_count": null,
   "id": "fd57dc70-8992-460e-b558-e0f95f38743f",
   "metadata": {},
   "outputs": [],
   "source": [
    "#choose data for predicting the plays. Not all data we have is going to be relevant \n",
    "data = dataset[['home', 'away', 'offense_score', 'defense_score', 'period', 'clock', 'yards_to_goal', 'down', 'distance', 'play_type']]\n",
    "\n",
    "data"
   ]
  },
  {
   "cell_type": "code",
   "execution_count": null,
   "id": "3d082ab1-c03d-4fe2-b089-bb72413fcfcd",
   "metadata": {},
   "outputs": [],
   "source": [
    "#create column with 1 (true) and 0 (false) to see when Michihgan (team predicting for) is home or not\n",
    "data['is_home'] = np.where(data['home'] == 'Michigan', 1, 0)\n",
    "\n",
    "data.head(1)"
   ]
  },
  {
   "cell_type": "code",
   "execution_count": null,
   "id": "f660485b-fc28-4d01-a2c1-8c4b3c3c8c5a",
   "metadata": {},
   "outputs": [],
   "source": [
    "pd.DataFrame(data['clock'].tolist())"
   ]
  },
  {
   "cell_type": "code",
   "execution_count": null,
   "id": "316b3c69-2988-42f2-b864-246d16c17fa6",
   "metadata": {},
   "outputs": [],
   "source": [
    "#split clock into minutes and seconds\n",
    "data[['minutes','seconds']] = pd.DataFrame(data['clock'].tolist())\n",
    "\n",
    "data"
   ]
  },
  {
   "cell_type": "code",
   "execution_count": null,
   "id": "a2bd621a-feb4-4a95-b85d-79e792763a07",
   "metadata": {},
   "outputs": [],
   "source": [
    "#get total seconds remaining now\n",
    "data['seconds_remaining'] = ((data['minutes'] * 60) + data['seconds'])\n",
    "\n",
    "data"
   ]
  },
  {
   "cell_type": "code",
   "execution_count": null,
   "id": "2643bc97-6809-4fc9-9db2-c478a8fd0da2",
   "metadata": {},
   "outputs": [],
   "source": [
    "data['play_type'].unique()"
   ]
  },
  {
   "cell_type": "code",
   "execution_count": null,
   "id": "7c416dd7-fa7d-44d9-a75d-83766d55e0ee",
   "metadata": {},
   "outputs": [],
   "source": [
    "#define each plays type\n",
    "pass_types = ['Pass Reception', 'Pass Interception Return', 'Pass Incompletion', 'Sack', 'Passing Touchdown', 'Interception Return Touchdown']\n",
    "rush_types = ['Rush', 'Rushing Touchdown']\n",
    "punt_types = ['Punt', 'Punt Return Touchdown', 'Blocked Punt', 'Blocked Punt Touchdown']\n",
    "fg_types = ['Field Goal Good', 'Field Goal Missed', 'Blocked Field Goal']\n",
    "\n",
    "#write function to get the play type into the dataframe\n",
    "def getPlayCall(x):\n",
    "    if x in pass_types:\n",
    "            return 'pass'\n",
    "    elif x in rush_types:\n",
    "        return 'rush'\n",
    "    elif x in punt_types:\n",
    "        return 'punt'\n",
    "    elif x in fg_types:\n",
    "        return 'fg'\n",
    "    else:\n",
    "        return None\n",
    "\n",
    "#get the play type into the dataframe\n",
    "data['play_call'] = data['play_type'].apply(getPlayCall)\n",
    "\n",
    "\n",
    "data.head()"
   ]
  },
  {
   "cell_type": "code",
   "execution_count": null,
   "id": "270aeb6a-8f96-45e0-ba85-062fa0afeb5f",
   "metadata": {},
   "outputs": [],
   "source": [
    "#drop the rows with 'none' as play type\n",
    "\n",
    "data.dropna(subset=['play_call'], inplace = True)\n",
    "\n",
    "data.head()"
   ]
  },
  {
   "cell_type": "code",
   "execution_count": null,
   "id": "d2112b83-2388-4325-a394-134415f603d6",
   "metadata": {},
   "outputs": [],
   "source": [
    "plays = data[['offense_score', 'defense_score', 'period', 'yards_to_goal', 'down', 'distance', 'is_home', 'seconds_remaining', 'play_call']]\n",
    "\n",
    "plays.head()"
   ]
  },
  {
   "cell_type": "code",
   "execution_count": null,
   "id": "faac9b0f-6966-4ca6-8d25-eb0e35691274",
   "metadata": {},
   "outputs": [],
   "source": [
    "#import training and test split and randm forest clssifier\n",
    "from sklearn.model_selection import train_test_split\n",
    "from sklearn.ensemble import RandomForestClassifier"
   ]
  },
  {
   "cell_type": "code",
   "execution_count": null,
   "id": "0cbae908-a901-44dd-bd4d-848846b707c9",
   "metadata": {},
   "outputs": [],
   "source": [
    "#split the data between out independent variables (the stuff used to predict) and the dependent variable (the thing we are trying to predict (the play call))\n",
    "play_calls = plays['play_call']\n",
    "plays = plays.drop(['play_call'], axis = 1)\n"
   ]
  },
  {
   "cell_type": "code",
   "execution_count": null,
   "id": "12b28d20-10dc-4931-8e88-13e9ac3dcb40",
   "metadata": {},
   "outputs": [],
   "source": [
    "#split the data into training and test sets\n",
    "plays_train, plays_validation, calls_train, calls_validation = train_test_split(plays, play_calls, train_size=0.8, test_size=0.2, random_state=0)\n",
    "plays_train.head()"
   ]
  },
  {
   "cell_type": "code",
   "execution_count": null,
   "id": "f48c2cd2-cedc-49dc-8deb-2d4cb5b48ed5",
   "metadata": {},
   "outputs": [],
   "source": [
    "#convert our play calls (pass, rush, punt, fg) to numeric for predicting\n",
    "y, y_keys = pd.factorize(calls_train)"
   ]
  },
  {
   "cell_type": "code",
   "execution_count": null,
   "id": "4d6c8a3b-5ecd-4d29-a038-41da115c80b2",
   "metadata": {},
   "outputs": [],
   "source": [
    "#build the classifier\n",
    "classifier = RandomForestClassifier(random_state=0, n_estimators=100)\n",
    "\n",
    "# train the classifier with our test set\n",
    "classifier.fit(plays_train, y)"
   ]
  },
  {
   "cell_type": "code",
   "execution_count": null,
   "id": "dccde04a-447c-4cf0-b12d-364e41aa9e79",
   "metadata": {},
   "outputs": [],
   "source": [
    "classifier.predict(plays_validation)"
   ]
  },
  {
   "cell_type": "code",
   "execution_count": null,
   "id": "973bab77-b3c6-426b-9d7f-12a387be3a6b",
   "metadata": {},
   "outputs": [],
   "source": [
    "(classifier.predict_proba(plays_validation)[0:10]).tolist()\n"
   ]
  },
  {
   "cell_type": "code",
   "execution_count": null,
   "id": "d306d860-2688-46c0-98b6-14f782143f3e",
   "metadata": {},
   "outputs": [],
   "source": [
    "#map labels back to preidctions\n",
    "predicted_calls = y_keys[classifier.predict(plays_validation)]\n",
    "\n",
    "predicted_calls"
   ]
  },
  {
   "cell_type": "code",
   "execution_count": null,
   "id": "13ebfaa2-aee7-4f2b-9644-ea74c5a78405",
   "metadata": {},
   "outputs": [],
   "source": [
    "#compare predicted to actual output\n",
    "pd.crosstab(calls_validation, predicted_calls, rownames=['Actual Calls'], colnames=['Predicted Calls'])"
   ]
  },
  {
   "cell_type": "code",
   "execution_count": null,
   "id": "467b5acc-a103-4c1d-a46d-3aaea894943e",
   "metadata": {},
   "outputs": [],
   "source": [
    "#see where most of the 'weight' of our predictions is at\n",
    "list(zip(plays_train, classifier.feature_importances_))"
   ]
  },
  {
   "cell_type": "code",
   "execution_count": null,
   "id": "03206fe9-6f75-4aaa-9be3-c4d52ff3355b",
   "metadata": {},
   "outputs": [],
   "source": [
    "# incorporate period into seconds_remaining\n",
    "plays['seconds_remaining'] = ((4 - plays['period']) * 15 * 60 ) + plays['seconds_remaining']\n",
    "\n",
    "# drop is_home and period columns\n",
    "plays = plays.drop(columns=['is_home', 'period'])"
   ]
  },
  {
   "cell_type": "code",
   "execution_count": null,
   "id": "29cc09c5-be84-4ad8-b7e4-b687c03ba473",
   "metadata": {},
   "outputs": [],
   "source": [
    "plays"
   ]
  },
  {
   "cell_type": "code",
   "execution_count": null,
   "id": "29884c61-d75d-4751-af8e-3e5ccbb4309a",
   "metadata": {},
   "outputs": [],
   "source": [
    "plays_train, plays_validation, calls_train, calls_validation = train_test_split(plays, play_calls, train_size=0.8, test_size=0.2, random_state=0)\n",
    "y, y_keys = pd.factorize(calls_train)\n",
    "\n",
    "classifier = RandomForestClassifier(n_estimators=100, random_state=0)\n",
    "classifier.fit(plays_train, y)\n",
    "\n",
    "predicted_calls = y_keys[classifier.predict(plays_validation)]\n",
    "\n",
    "pd.crosstab(calls_validation, predicted_calls, rownames=['Actual Calls'], colnames=['Predicted Calls'])"
   ]
  },
  {
   "cell_type": "code",
   "execution_count": null,
   "id": "01772606-ad47-413a-809f-7496db2e4fe2",
   "metadata": {},
   "outputs": [],
   "source": [
    "#see where most of the 'weight' of our predictions is at\n",
    "list(zip(plays_train, classifier.feature_importances_))"
   ]
  },
  {
   "cell_type": "code",
   "execution_count": null,
   "id": "7c87ed31-6e04-4261-901e-ddca29f052b1",
   "metadata": {},
   "outputs": [],
   "source": [
    "# calculate new scoring margin field and drop the individual score columns. Find out how much who we are prediciting for is down or up\n",
    "plays['margin'] = plays['offense_score'] - plays['defense_score']\n",
    "plays = plays.drop(columns=['offense_score', 'defense_score'])\n",
    "plays\n"
   ]
  },
  {
   "cell_type": "code",
   "execution_count": null,
   "id": "50e2a3dd-819e-4ea0-8ad9-eb44ee2c70d2",
   "metadata": {},
   "outputs": [],
   "source": [
    "plays_train, plays_validation, calls_train, calls_validation = train_test_split(plays, play_calls, train_size=0.8, test_size=0.2, random_state=0)\n",
    "y, y_keys = pd.factorize(calls_train)\n",
    "\n",
    "classifier = RandomForestClassifier(n_estimators=100, random_state=0)\n",
    "classifier.fit(plays_train, y)\n",
    "\n",
    "predicted_calls = y_keys[classifier.predict(plays_validation)]\n",
    "\n",
    "pd.crosstab(calls_validation, predicted_calls, rownames=['Actual Calls'], colnames=['Predicted Calls'])"
   ]
  },
  {
   "cell_type": "code",
   "execution_count": null,
   "id": "1432bef3-3ba6-47e3-985b-e1217d17872b",
   "metadata": {},
   "outputs": [],
   "source": [
    "list(zip(plays_train, classifier.feature_importances_))"
   ]
  },
  {
   "cell_type": "code",
   "execution_count": null,
   "id": "85506f43-1c5c-422f-a83c-9ad6a9e3ca53",
   "metadata": {},
   "outputs": [],
   "source": [
    "from sklearn.metrics import accuracy_score\n",
    "accuracy = accuracy_score(calls_validation, predicted_calls)\n",
    "accuracy"
   ]
  },
  {
   "cell_type": "code",
   "execution_count": null,
   "id": "5eab62ee-c719-40ed-a52f-1cf8980cb88e",
   "metadata": {},
   "outputs": [],
   "source": [
    "classifier.predict_proba(plays_validation)[0:10]"
   ]
  },
  {
   "cell_type": "code",
   "execution_count": null,
   "id": "a5787aeb-6735-4eab-9751-1f4a6c08af91",
   "metadata": {},
   "outputs": [],
   "source": [
    "#create function used to predict plays\n",
    "def predict_call(yards, down, distance, seconds, margin):\n",
    "    test_plays = pd.DataFrame({'yards_to_goal': [yards], 'down': [down], 'distance': [distance], 'seconds_remaining': [seconds], 'margin': [margin]})\n",
    "    call = (classifier.predict_proba(test_plays)[0]).tolist()\n",
    "    columns = ['PROBA']\n",
    "    columnsx=y_keys[classifier.classes_].to_list()\n",
    "    columnsx\n",
    "    rows = columnsx\n",
    "    data = call\n",
    "    df = pd.DataFrame(data=data, index=rows, columns=columns)\n",
    "    df['PROBA']=df['PROBA']*100\n",
    "    df = df.transpose()\n",
    "    return df\n",
    "    # return y_keys[classifier.predict(test_plays)][0]"
   ]
  },
  {
   "cell_type": "code",
   "execution_count": null,
   "id": "dd6abbf4-60b7-4b4e-aea9-a64f9bfdc404",
   "metadata": {},
   "outputs": [],
   "source": [
    "call = predict_call(27,4,7,720,-3)\n",
    "call"
   ]
  },
  {
   "cell_type": "code",
   "execution_count": null,
   "id": "661eb083-c472-40f5-b542-49b8f0f5f6dd",
   "metadata": {},
   "outputs": [],
   "source": [
    "max_pred_call = call.loc['PROBA'].idxmax()\n",
    "max_pred_call"
   ]
  },
  {
   "cell_type": "code",
   "execution_count": null,
   "id": "ec1c0a47",
   "metadata": {},
   "outputs": [],
   "source": [
    "if max_pred_call == 'fg':\n",
    "    final_pred = 'Field Goal'\n",
    "elif max_pred_call == 'pass':\n",
    "    final_pred = 'Pass'\n",
    "elif max_pred_call == 'rush':\n",
    "    final_pred = 'Rush'\n",
    "elif max_pred_call == 'punt':\n",
    "    final_pred = 'Punt'"
   ]
  },
  {
   "cell_type": "code",
   "execution_count": null,
   "id": "56f1ca7a",
   "metadata": {},
   "outputs": [],
   "source": [
    "print(final_pred)"
   ]
  },
  {
   "cell_type": "code",
   "execution_count": null,
   "id": "8a99fb29",
   "metadata": {},
   "outputs": [],
   "source": [
    "import joblib"
   ]
  },
  {
   "cell_type": "code",
   "execution_count": null,
   "id": "2102f12d",
   "metadata": {},
   "outputs": [],
   "source": [
    "saved_model = joblib.dump(classifier, 'cfbplaypred.joblib') "
   ]
  },
  {
   "cell_type": "code",
   "execution_count": null,
   "id": "e7dcb1ef",
   "metadata": {},
   "outputs": [],
   "source": [
    "loaded_model = joblib.load('cfbplaypred.joblib')"
   ]
  },
  {
   "cell_type": "code",
   "execution_count": null,
   "id": "35c066af",
   "metadata": {},
   "outputs": [],
   "source": [
    "loaded_model.predict_proba(plays_validation)[0:10]"
   ]
  }
 ],
 "metadata": {
  "kernelspec": {
   "display_name": "Python 3",
   "language": "python",
   "name": "python3"
  },
  "language_info": {
   "codemirror_mode": {
    "name": "ipython",
    "version": 3
   },
   "file_extension": ".py",
   "mimetype": "text/x-python",
   "name": "python",
   "nbconvert_exporter": "python",
   "pygments_lexer": "ipython3",
   "version": "3.13.1"
  }
 },
 "nbformat": 4,
 "nbformat_minor": 5
}
