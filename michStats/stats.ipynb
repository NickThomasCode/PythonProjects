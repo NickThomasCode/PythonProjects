{
 "cells": [
  {
   "cell_type": "code",
   "execution_count": 1,
   "metadata": {},
   "outputs": [],
   "source": [
    "import numpy as np\n",
    "import pandas as pd\n",
    "import requests\n",
    "from cfbd.rest import ApiException\n",
    "import cfbd\n",
    "import json"
   ]
  },
  {
   "cell_type": "code",
   "execution_count": 2,
   "metadata": {},
   "outputs": [],
   "source": [
    "dataset = pd.DataFrame()"
   ]
  },
  {
   "cell_type": "code",
   "execution_count": 3,
   "metadata": {},
   "outputs": [],
   "source": [
    "# # Configure API key authorization: ApiKeyAuth\n",
    "# configuration = cfbd.Configuration()\n",
    "# configuration.api_key['Authorization'] = '+eiRK37qNRqjoDcgyigTAWo4QyGrMtYR1o/hifwQmzj8hO1OwzwDdbjRnJKfSr2t'\n",
    "# configuration.api_key_prefix['Authorization'] = 'Bearer'\n",
    "\n",
    "# for year in range (2021, 2025):\n",
    "#     api_config = cfbd.ApiClient(configuration)\n",
    "#     for week in range (1,16):\n",
    "#         response = plays = cfbd.PlaysApi(api_config).get_plays(year=year, week=week, offense='Michigan')\n",
    "#         data = (pd.DataFrame.from_records([p.to_dict() for p in plays]))\n",
    "#         dataset = pd.concat([dataset, data]) \n",
    "          \n",
    "      \n",
    "# dataset"
   ]
  },
  {
   "cell_type": "code",
   "execution_count": 51,
   "metadata": {},
   "outputs": [
    {
     "name": "stdout",
     "output_type": "stream",
     "text": [
      "2021\n",
      "2022\n",
      "2023\n",
      "2024\n"
     ]
    },
    {
     "data": {
      "text/html": [
       "<div>\n",
       "<style scoped>\n",
       "    .dataframe tbody tr th:only-of-type {\n",
       "        vertical-align: middle;\n",
       "    }\n",
       "\n",
       "    .dataframe tbody tr th {\n",
       "        vertical-align: top;\n",
       "    }\n",
       "\n",
       "    .dataframe thead th {\n",
       "        text-align: right;\n",
       "    }\n",
       "</style>\n",
       "<table border=\"1\" class=\"dataframe\">\n",
       "  <thead>\n",
       "    <tr style=\"text-align: right;\">\n",
       "      <th></th>\n",
       "      <th>season</th>\n",
       "      <th>team</th>\n",
       "      <th>conference</th>\n",
       "      <th>stat_name</th>\n",
       "      <th>stat_value</th>\n",
       "    </tr>\n",
       "  </thead>\n",
       "  <tbody>\n",
       "    <tr>\n",
       "      <th>0</th>\n",
       "      <td>2021</td>\n",
       "      <td>Michigan</td>\n",
       "      <td>Big Ten</td>\n",
       "      <td>netPassingYards</td>\n",
       "      <td>3202</td>\n",
       "    </tr>\n",
       "    <tr>\n",
       "      <th>1</th>\n",
       "      <td>2021</td>\n",
       "      <td>Michigan</td>\n",
       "      <td>Big Ten</td>\n",
       "      <td>kickReturnTDs</td>\n",
       "      <td>1</td>\n",
       "    </tr>\n",
       "    <tr>\n",
       "      <th>2</th>\n",
       "      <td>2021</td>\n",
       "      <td>Michigan</td>\n",
       "      <td>Big Ten</td>\n",
       "      <td>passingTDs</td>\n",
       "      <td>21</td>\n",
       "    </tr>\n",
       "    <tr>\n",
       "      <th>3</th>\n",
       "      <td>2021</td>\n",
       "      <td>Michigan</td>\n",
       "      <td>Big Ten</td>\n",
       "      <td>puntReturnYards</td>\n",
       "      <td>364</td>\n",
       "    </tr>\n",
       "    <tr>\n",
       "      <th>4</th>\n",
       "      <td>2021</td>\n",
       "      <td>Michigan</td>\n",
       "      <td>Big Ten</td>\n",
       "      <td>thirdDownConversions</td>\n",
       "      <td>87</td>\n",
       "    </tr>\n",
       "    <tr>\n",
       "      <th>...</th>\n",
       "      <td>...</td>\n",
       "      <td>...</td>\n",
       "      <td>...</td>\n",
       "      <td>...</td>\n",
       "      <td>...</td>\n",
       "    </tr>\n",
       "    <tr>\n",
       "      <th>31</th>\n",
       "      <td>2023</td>\n",
       "      <td>Michigan</td>\n",
       "      <td>Big Ten</td>\n",
       "      <td>interceptions</td>\n",
       "      <td>5</td>\n",
       "    </tr>\n",
       "    <tr>\n",
       "      <th>0</th>\n",
       "      <td>2024</td>\n",
       "      <td>Michigan</td>\n",
       "      <td>Big Ten</td>\n",
       "      <td>fumblesRecovered</td>\n",
       "      <td>4</td>\n",
       "    </tr>\n",
       "    <tr>\n",
       "      <th>1</th>\n",
       "      <td>2024</td>\n",
       "      <td>Michigan</td>\n",
       "      <td>Big Ten</td>\n",
       "      <td>passAttempts</td>\n",
       "      <td>242</td>\n",
       "    </tr>\n",
       "    <tr>\n",
       "      <th>2</th>\n",
       "      <td>2024</td>\n",
       "      <td>Michigan</td>\n",
       "      <td>Big Ten</td>\n",
       "      <td>tacklesForLoss</td>\n",
       "      <td>61</td>\n",
       "    </tr>\n",
       "    <tr>\n",
       "      <th>3</th>\n",
       "      <td>2024</td>\n",
       "      <td>Michigan</td>\n",
       "      <td>Big Ten</td>\n",
       "      <td>penalties</td>\n",
       "      <td>43</td>\n",
       "    </tr>\n",
       "  </tbody>\n",
       "</table>\n",
       "<p>100 rows × 5 columns</p>\n",
       "</div>"
      ],
      "text/plain": [
       "    season      team conference             stat_name  stat_value\n",
       "0     2021  Michigan    Big Ten       netPassingYards        3202\n",
       "1     2021  Michigan    Big Ten         kickReturnTDs           1\n",
       "2     2021  Michigan    Big Ten            passingTDs          21\n",
       "3     2021  Michigan    Big Ten       puntReturnYards         364\n",
       "4     2021  Michigan    Big Ten  thirdDownConversions          87\n",
       "..     ...       ...        ...                   ...         ...\n",
       "31    2023  Michigan    Big Ten         interceptions           5\n",
       "0     2024  Michigan    Big Ten      fumblesRecovered           4\n",
       "1     2024  Michigan    Big Ten          passAttempts         242\n",
       "2     2024  Michigan    Big Ten        tacklesForLoss          61\n",
       "3     2024  Michigan    Big Ten             penalties          43\n",
       "\n",
       "[100 rows x 5 columns]"
      ]
     },
     "execution_count": 51,
     "metadata": {},
     "output_type": "execute_result"
    }
   ],
   "source": [
    "\n",
    "# Configure API key authorization: ApiKeyAuth\n",
    "configuration = cfbd.Configuration()\n",
    "configuration.api_key['Authorization'] = '+eiRK37qNRqjoDcgyigTAWo4QyGrMtYR1o/hifwQmzj8hO1OwzwDdbjRnJKfSr2t'\n",
    "configuration.api_key_prefix['Authorization'] = 'Bearer'\n",
    "# Uncomment below to setup prefix (e.g. Bearer) for API key, if needed\n",
    "# configuration.api_key_prefix['Authorization'] = 'Bearer'\n",
    "\n",
    "# create an instance of the API class\n",
    "api_instance = cfbd.StatsApi(cfbd.ApiClient(configuration))\n",
    "#year = 2023 # int | Year filter (required if no team specified) (optional)\n",
    "team = 'michigan' # str | Team filter (required if no year specified) (optional)\n",
    "#conference = 'conference_example' # str | Conference abbreviation filter (optional)\n",
    "#start_week = 0 # int | Starting week filter (optional)\n",
    "#end_week = 12 # int | Starting week filter (optional)\n",
    "\n",
    "for year in range (2021, 2025):\n",
    "    print(year)\n",
    "    # Team statistics by season\n",
    "    api_response = api_instance.get_team_season_stats(year=year, team=team)\n",
    "    data = (pd.DataFrame.from_records([p.to_dict() for p in api_response]))\n",
    "    dataset = pd.concat([dataset, data]) \n",
    "\n",
    "dataset.head(100)"
   ]
  },
  {
   "cell_type": "code",
   "execution_count": 54,
   "metadata": {},
   "outputs": [],
   "source": [
    "gp_2022 = 14\n",
    "gp_2023 = 15\n",
    "gp_2024 = 10"
   ]
  },
  {
   "cell_type": "code",
   "execution_count": 56,
   "metadata": {},
   "outputs": [],
   "source": [
    "data2022 = dataset[dataset['season'] == 2022]\n",
    "data2023 = dataset[dataset['season'] == 2023]\n",
    "data2024 = dataset[dataset['season'] == 2024]"
   ]
  },
  {
   "cell_type": "code",
   "execution_count": 57,
   "metadata": {},
   "outputs": [
    {
     "name": "stderr",
     "output_type": "stream",
     "text": [
      "/var/folders/gc/l9nrmd0j3fxcb8_827d4qyk40000gn/T/ipykernel_10586/2072799299.py:1: SettingWithCopyWarning: \n",
      "A value is trying to be set on a copy of a slice from a DataFrame.\n",
      "Try using .loc[row_indexer,col_indexer] = value instead\n",
      "\n",
      "See the caveats in the documentation: https://pandas.pydata.org/pandas-docs/stable/user_guide/indexing.html#returning-a-view-versus-a-copy\n",
      "  data2022['avg'] = round((data2022['stat_value']/gp_2022), 2)\n",
      "/var/folders/gc/l9nrmd0j3fxcb8_827d4qyk40000gn/T/ipykernel_10586/2072799299.py:2: SettingWithCopyWarning: \n",
      "A value is trying to be set on a copy of a slice from a DataFrame.\n",
      "Try using .loc[row_indexer,col_indexer] = value instead\n",
      "\n",
      "See the caveats in the documentation: https://pandas.pydata.org/pandas-docs/stable/user_guide/indexing.html#returning-a-view-versus-a-copy\n",
      "  data2023['avg'] = round((data2023['stat_value']/gp_2023), 2)\n",
      "/var/folders/gc/l9nrmd0j3fxcb8_827d4qyk40000gn/T/ipykernel_10586/2072799299.py:3: SettingWithCopyWarning: \n",
      "A value is trying to be set on a copy of a slice from a DataFrame.\n",
      "Try using .loc[row_indexer,col_indexer] = value instead\n",
      "\n",
      "See the caveats in the documentation: https://pandas.pydata.org/pandas-docs/stable/user_guide/indexing.html#returning-a-view-versus-a-copy\n",
      "  data2024['avg'] = round((data2024['stat_value']/gp_2024), 2)\n"
     ]
    }
   ],
   "source": [
    "data2022['avg'] = round((data2022['stat_value']/gp_2022), 2)\n",
    "data2023['avg'] = round((data2023['stat_value']/gp_2023), 2)\n",
    "data2024['avg'] = round((data2024['stat_value']/gp_2024), 2)"
   ]
  },
  {
   "cell_type": "code",
   "execution_count": 62,
   "metadata": {},
   "outputs": [
    {
     "data": {
      "text/plain": [
       "array(['netPassingYards', 'kickReturnTDs', 'passingTDs',\n",
       "       'puntReturnYards', 'thirdDownConversions', 'interceptionTDs',\n",
       "       'passCompletions', 'puntReturnTDs', 'totalYards',\n",
       "       'passesIntercepted', 'rushingTDs', 'penalties', 'rushingAttempts',\n",
       "       'interceptions', 'interceptionYards', 'tacklesForLoss',\n",
       "       'kickReturns', 'fumblesLost', 'puntReturns',\n",
       "       'fourthDownConversions', 'penaltyYards', 'fumblesRecovered',\n",
       "       'possessionTime', 'thirdDowns', 'sacks', 'kickReturnYards',\n",
       "       'firstDowns', 'fourthDowns', 'games', 'passAttempts', 'turnovers',\n",
       "       'rushingYards'], dtype=object)"
      ]
     },
     "execution_count": 62,
     "metadata": {},
     "output_type": "execute_result"
    }
   ],
   "source": [
    "dataset['stat_name'].unique()"
   ]
  },
  {
   "cell_type": "code",
   "execution_count": 70,
   "metadata": {},
   "outputs": [],
   "source": [
    "uni_2022 = data2022[data2022['stat_name'].isin(['rushingYards', 'netPassingYards'])]\n",
    "uni_2022 = uni_2022.drop_duplicates()\n",
    "\n",
    "uni_2023 = data2023[data2023['stat_name'].isin(['rushingYards', 'netPassingYards'])]\n",
    "uni_2023 = uni_2023.drop_duplicates()\n",
    "\n",
    "uni_2024 = data2024[data2024['stat_name'].isin(['rushingYards', 'netPassingYards'])]\n",
    "uni_2024 = uni_2024.drop_duplicates()\n"
   ]
  },
  {
   "cell_type": "code",
   "execution_count": 75,
   "metadata": {},
   "outputs": [
    {
     "data": {
      "text/html": [
       "<div>\n",
       "<style scoped>\n",
       "    .dataframe tbody tr th:only-of-type {\n",
       "        vertical-align: middle;\n",
       "    }\n",
       "\n",
       "    .dataframe tbody tr th {\n",
       "        vertical-align: top;\n",
       "    }\n",
       "\n",
       "    .dataframe thead th {\n",
       "        text-align: right;\n",
       "    }\n",
       "</style>\n",
       "<table border=\"1\" class=\"dataframe\">\n",
       "  <thead>\n",
       "    <tr style=\"text-align: right;\">\n",
       "      <th></th>\n",
       "      <th>index</th>\n",
       "      <th>season</th>\n",
       "      <th>team</th>\n",
       "      <th>conference</th>\n",
       "      <th>stat_name</th>\n",
       "      <th>stat_value</th>\n",
       "      <th>avg</th>\n",
       "    </tr>\n",
       "  </thead>\n",
       "  <tbody>\n",
       "    <tr>\n",
       "      <th>0</th>\n",
       "      <td>6</td>\n",
       "      <td>2022</td>\n",
       "      <td>Michigan</td>\n",
       "      <td>Big Ten</td>\n",
       "      <td>rushingYards</td>\n",
       "      <td>3344</td>\n",
       "      <td>238.86</td>\n",
       "    </tr>\n",
       "    <tr>\n",
       "      <th>1</th>\n",
       "      <td>31</td>\n",
       "      <td>2022</td>\n",
       "      <td>Michigan</td>\n",
       "      <td>Big Ten</td>\n",
       "      <td>netPassingYards</td>\n",
       "      <td>3078</td>\n",
       "      <td>219.86</td>\n",
       "    </tr>\n",
       "    <tr>\n",
       "      <th>2</th>\n",
       "      <td>4</td>\n",
       "      <td>2023</td>\n",
       "      <td>Michigan</td>\n",
       "      <td>Big Ten</td>\n",
       "      <td>rushingYards</td>\n",
       "      <td>2536</td>\n",
       "      <td>169.07</td>\n",
       "    </tr>\n",
       "    <tr>\n",
       "      <th>3</th>\n",
       "      <td>24</td>\n",
       "      <td>2023</td>\n",
       "      <td>Michigan</td>\n",
       "      <td>Big Ten</td>\n",
       "      <td>netPassingYards</td>\n",
       "      <td>3205</td>\n",
       "      <td>213.67</td>\n",
       "    </tr>\n",
       "    <tr>\n",
       "      <th>4</th>\n",
       "      <td>22</td>\n",
       "      <td>2024</td>\n",
       "      <td>Michigan</td>\n",
       "      <td>Big Ten</td>\n",
       "      <td>netPassingYards</td>\n",
       "      <td>1346</td>\n",
       "      <td>134.60</td>\n",
       "    </tr>\n",
       "    <tr>\n",
       "      <th>5</th>\n",
       "      <td>23</td>\n",
       "      <td>2024</td>\n",
       "      <td>Michigan</td>\n",
       "      <td>Big Ten</td>\n",
       "      <td>rushingYards</td>\n",
       "      <td>1557</td>\n",
       "      <td>155.70</td>\n",
       "    </tr>\n",
       "  </tbody>\n",
       "</table>\n",
       "</div>"
      ],
      "text/plain": [
       "   index  season      team conference        stat_name  stat_value     avg\n",
       "0      6    2022  Michigan    Big Ten     rushingYards        3344  238.86\n",
       "1     31    2022  Michigan    Big Ten  netPassingYards        3078  219.86\n",
       "2      4    2023  Michigan    Big Ten     rushingYards        2536  169.07\n",
       "3     24    2023  Michigan    Big Ten  netPassingYards        3205  213.67\n",
       "4     22    2024  Michigan    Big Ten  netPassingYards        1346  134.60\n",
       "5     23    2024  Michigan    Big Ten     rushingYards        1557  155.70"
      ]
     },
     "execution_count": 75,
     "metadata": {},
     "output_type": "execute_result"
    }
   ],
   "source": [
    "combined_df = pd.concat([uni_2022, uni_2023, uni_2024])\n",
    "combined_df = combined_df.reset_index()\n",
    "combined_df.head(10)"
   ]
  },
  {
   "cell_type": "code",
   "execution_count": 102,
   "metadata": {},
   "outputs": [],
   "source": [
    "combined_df = combined_df.sort_values(by=['season', 'stat_name'])"
   ]
  },
  {
   "cell_type": "code",
   "execution_count": 103,
   "metadata": {},
   "outputs": [
    {
     "data": {
      "image/png": "[encoded data removed]",
      "text/plain": [
       "<Figure size 720x432 with 1 Axes>"
      ]
     },
     "metadata": {},
     "output_type": "display_data"
    }
   ],
   "source": [
    "import pandas as pd\n",
    "import matplotlib.pyplot as plt\n",
    "from matplotlib.lines import Line2D  # For custom legend entries\n",
    "\n",
    "df = combined_df\n",
    "\n",
    "# Combine `stat_name` and `season` for x-axis labels\n",
    "df['label'] = df['stat_name'] + \" (\" + df['season'].astype(str) + \")\"\n",
    "\n",
    "# Plot the bar chart with a lighter grey background\n",
    "plt.figure(figsize=(10, 6), facecolor='lightgrey')\n",
    "\n",
    "# Create bars with different colors (Maize for Rushing and Blue for Passing)\n",
    "bars = plt.bar(df['label'], df['avg'], color=['#FFCB05' if stat == 'rushingYards' else '#00274C' for stat in df['stat_name']])\n",
    "\n",
    "# Add labels and title\n",
    "plt.xlabel('Stat Name and Season')\n",
    "plt.ylabel('Average')\n",
    "plt.title('Average by Stat Name and Season')\n",
    "plt.xticks(rotation=45, ha='right')  # Rotate x-axis labels for better visibility\n",
    "\n",
    "# Display the avg value at the top of each bar, closer to the bar\n",
    "for bar, avg in zip(bars, df['avg']):\n",
    "    yval = bar.get_height()  # Get the height of the bar (y-value)\n",
    "    plt.text(bar.get_x() + bar.get_width() / 2, yval + 5,  # Adjust the vertical position (lower the text)\n",
    "             f'{avg:.2f}', ha='center', va='bottom', color='black', fontweight='bold')\n",
    "\n",
    "# Manually set the y-axis limit to 300\n",
    "plt.ylim(0, 300)  # Set the limit from 0 to 300 on the y-axis\n",
    "\n",
    "# Create a custom legend for \"Avg Rushing\" and \"Avg Passing\"\n",
    "legend_elements = [\n",
    "    Line2D([0], [0], color='#FFCB05', lw=4, label='Avg Rushing'),  # Maize color for Rushing\n",
    "    Line2D([0], [0], color='#00274C', lw=4, label='Avg Passing')   # Blue color for Passing\n",
    "]\n",
    "\n",
    "# Add the legend with custom entries\n",
    "plt.legend(handles=legend_elements, title='Stat Types', loc='upper right')\n",
    "\n",
    "#Save the plot:\n",
    "plt.savefig('average_stats_by_season.png', format='png', dpi=300, bbox_inches='tight')  # `bbox_inches='tight'` ensures everything is included in the saved image\n",
    "# Show the plot\n",
    "plt.tight_layout()  # Adjust layout to avoid label overlap\n",
    "plt.show()\n"
   ]
  },
  {
   "cell_type": "code",
   "execution_count": 96,
   "metadata": {},
   "outputs": [
    {
     "data": {
      "text/plain": [
       "<Figure size 432x288 with 0 Axes>"
      ]
     },
     "metadata": {},
     "output_type": "display_data"
    }
   ],
   "source": [
    "#Save the plot:\n",
    "plt.savefig('average_stats_by_season.png', format='png')  # Saves as a PNG file with 300 dpi resolution"
   ]
  },
  {
   "cell_type": "code",
   "execution_count": null,
   "metadata": {},
   "outputs": [],
   "source": []
  }
 ],
 "metadata": {
  "kernelspec": {
   "display_name": "base",
   "language": "python",
   "name": "python3"
  },
  "language_info": {
   "codemirror_mode": {
    "name": "ipython",
    "version": 3
   },
   "file_extension": ".py",
   "mimetype": "text/x-python",
   "name": "python",
   "nbconvert_exporter": "python",
   "pygments_lexer": "ipython3",
   "version": "3.9.12"
  },
  "orig_nbformat": 4,
  "vscode": {
   "interpreter": {
    "hash": "cd78fef2128015050713e82ca51c6520b11aee7c9ee8df750520bbbc7384cbaa"
   }
  }
 },
 "nbformat": 4,
 "nbformat_minor": 2
}
